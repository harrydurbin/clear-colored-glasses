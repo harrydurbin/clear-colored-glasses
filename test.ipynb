{
 "cells": [
  {
   "cell_type": "code",
   "execution_count": 16,
   "metadata": {},
   "outputs": [],
   "source": [
    "import sqlite3\n",
    "import sqlalchemy\n",
    "from sqlalchemy import create_engine\n",
    "import pandas as pd"
   ]
  },
  {
   "cell_type": "code",
   "execution_count": 17,
   "metadata": {},
   "outputs": [],
   "source": [
    "db_file = \"project/data-dev.sqlite\"\n",
    "con = sqlite3.connect(db_file)\n",
    "cur = con.cursor()"
   ]
  },
  {
   "cell_type": "code",
   "execution_count": 18,
   "metadata": {
    "scrolled": true
   },
   "outputs": [],
   "source": [
    "query = \"SELECT * FROM Event WHERE user_id = ?;\"\n",
    "param = (1,)\n",
    "cur.execute(query,param)\n",
    "events = cur.fetchall()"
   ]
  },
  {
   "cell_type": "code",
   "execution_count": 19,
   "metadata": {},
   "outputs": [
    {
     "data": {
      "text/plain": [
       "[(1, 'test', 'Yes', 30, 'Yes', 1),\n",
       " (2, 'test 5', 'Yes', 11, 'No', 1),\n",
       " (3, 'adf', 'Yes', 60, 'No', 1)]"
      ]
     },
     "execution_count": 19,
     "metadata": {},
     "output_type": "execute_result"
    }
   ],
   "source": [
    "events"
   ]
  },
  {
   "cell_type": "code",
   "execution_count": 20,
   "metadata": {},
   "outputs": [],
   "source": [
    "query1 = \"SELECT * FROM Score WHERE user_id = ?;\"\n",
    "param1 = (1,)\n",
    "cur.execute(query,param)\n",
    "scores = cur.fetchall()"
   ]
  },
  {
   "cell_type": "code",
   "execution_count": 21,
   "metadata": {},
   "outputs": [],
   "source": [
    "df_scores  = pd.read_sql_query(query1, con=con, params = param1)"
   ]
  },
  {
   "cell_type": "code",
   "execution_count": 22,
   "metadata": {},
   "outputs": [
    {
     "data": {
      "text/html": [
       "<div>\n",
       "<style scoped>\n",
       "    .dataframe tbody tr th:only-of-type {\n",
       "        vertical-align: middle;\n",
       "    }\n",
       "\n",
       "    .dataframe tbody tr th {\n",
       "        vertical-align: top;\n",
       "    }\n",
       "\n",
       "    .dataframe thead th {\n",
       "        text-align: right;\n",
       "    }\n",
       "</style>\n",
       "<table border=\"1\" class=\"dataframe\">\n",
       "  <thead>\n",
       "    <tr style=\"text-align: right;\">\n",
       "      <th></th>\n",
       "      <th>id</th>\n",
       "      <th>scored_on</th>\n",
       "      <th>reality</th>\n",
       "      <th>accuracy</th>\n",
       "      <th>num</th>\n",
       "      <th>user_id</th>\n",
       "    </tr>\n",
       "  </thead>\n",
       "  <tbody>\n",
       "    <tr>\n",
       "      <th>0</th>\n",
       "      <td>1</td>\n",
       "      <td>2019-07-31 20:46:21.817991</td>\n",
       "      <td>-70</td>\n",
       "      <td>50</td>\n",
       "      <td>b'\\x01\\x00\\x00\\x00\\x00\\x00\\x00\\x00'</td>\n",
       "      <td>1</td>\n",
       "    </tr>\n",
       "    <tr>\n",
       "      <th>1</th>\n",
       "      <td>2</td>\n",
       "      <td>2019-07-31 20:47:39.532560</td>\n",
       "      <td>-70</td>\n",
       "      <td>50</td>\n",
       "      <td>b'\\x01\\x00\\x00\\x00\\x00\\x00\\x00\\x00'</td>\n",
       "      <td>1</td>\n",
       "    </tr>\n",
       "    <tr>\n",
       "      <th>2</th>\n",
       "      <td>3</td>\n",
       "      <td>2019-07-31 20:47:44.252507</td>\n",
       "      <td>-70</td>\n",
       "      <td>50</td>\n",
       "      <td>b'\\x01\\x00\\x00\\x00\\x00\\x00\\x00\\x00'</td>\n",
       "      <td>1</td>\n",
       "    </tr>\n",
       "    <tr>\n",
       "      <th>3</th>\n",
       "      <td>4</td>\n",
       "      <td>2019-07-31 20:47:56.097304</td>\n",
       "      <td>-30</td>\n",
       "      <td>25</td>\n",
       "      <td>b'\\x02\\x00\\x00\\x00\\x00\\x00\\x00\\x00'</td>\n",
       "      <td>1</td>\n",
       "    </tr>\n",
       "    <tr>\n",
       "      <th>4</th>\n",
       "      <td>5</td>\n",
       "      <td>2019-07-31 20:49:17.545028</td>\n",
       "      <td>-30</td>\n",
       "      <td>25</td>\n",
       "      <td>b'\\x02\\x00\\x00\\x00\\x00\\x00\\x00\\x00'</td>\n",
       "      <td>1</td>\n",
       "    </tr>\n",
       "  </tbody>\n",
       "</table>\n",
       "</div>"
      ],
      "text/plain": [
       "   id                   scored_on  reality  accuracy  \\\n",
       "0   1  2019-07-31 20:46:21.817991      -70        50   \n",
       "1   2  2019-07-31 20:47:39.532560      -70        50   \n",
       "2   3  2019-07-31 20:47:44.252507      -70        50   \n",
       "3   4  2019-07-31 20:47:56.097304      -30        25   \n",
       "4   5  2019-07-31 20:49:17.545028      -30        25   \n",
       "\n",
       "                                   num  user_id  \n",
       "0  b'\\x01\\x00\\x00\\x00\\x00\\x00\\x00\\x00'        1  \n",
       "1  b'\\x01\\x00\\x00\\x00\\x00\\x00\\x00\\x00'        1  \n",
       "2  b'\\x01\\x00\\x00\\x00\\x00\\x00\\x00\\x00'        1  \n",
       "3  b'\\x02\\x00\\x00\\x00\\x00\\x00\\x00\\x00'        1  \n",
       "4  b'\\x02\\x00\\x00\\x00\\x00\\x00\\x00\\x00'        1  "
      ]
     },
     "execution_count": 22,
     "metadata": {},
     "output_type": "execute_result"
    }
   ],
   "source": [
    "df_scores.head()"
   ]
  },
  {
   "cell_type": "code",
   "execution_count": 24,
   "metadata": {},
   "outputs": [],
   "source": [
    "import warnings\n",
    "warnings.filterwarnings('ignore')\n",
    "from bokeh.plotting import figure, show, output_file, output_notebook\n",
    "from bokeh.palettes import Spectral11, colorblind, Inferno, BuGn, brewer\n",
    "from bokeh.models import HoverTool, value, LabelSet, Legend, ColumnDataSource,LinearColorMapper,BasicTicker, PrintfTickFormatter, ColorBar\n",
    "import datetime\n",
    "\n",
    "# Input data files are available in the \"../input/\" directory.\n",
    "# For example, running this (by clicking run or pressing Shift+Enter) will list the files in the input directory\n",
    "\n",
    "import os\n",
    "# print(os.listdir(\"../input\"))\n",
    "# output_notebook()"
   ]
  },
  {
   "cell_type": "code",
   "execution_count": 25,
   "metadata": {},
   "outputs": [
    {
     "data": {
      "text/html": [
       "<div>\n",
       "<style scoped>\n",
       "    .dataframe tbody tr th:only-of-type {\n",
       "        vertical-align: middle;\n",
       "    }\n",
       "\n",
       "    .dataframe tbody tr th {\n",
       "        vertical-align: top;\n",
       "    }\n",
       "\n",
       "    .dataframe thead th {\n",
       "        text-align: right;\n",
       "    }\n",
       "</style>\n",
       "<table border=\"1\" class=\"dataframe\">\n",
       "  <thead>\n",
       "    <tr style=\"text-align: right;\">\n",
       "      <th></th>\n",
       "      <th>id</th>\n",
       "      <th>scored_on</th>\n",
       "      <th>reality</th>\n",
       "      <th>accuracy</th>\n",
       "      <th>num</th>\n",
       "      <th>user_id</th>\n",
       "      <th>Day</th>\n",
       "      <th>Month</th>\n",
       "      <th>Year</th>\n",
       "    </tr>\n",
       "  </thead>\n",
       "  <tbody>\n",
       "    <tr>\n",
       "      <th>0</th>\n",
       "      <td>1</td>\n",
       "      <td>2019-07-31 20:46:21.817991</td>\n",
       "      <td>-70</td>\n",
       "      <td>50</td>\n",
       "      <td>b'\\x01\\x00\\x00\\x00\\x00\\x00\\x00\\x00'</td>\n",
       "      <td>1</td>\n",
       "      <td>31</td>\n",
       "      <td>7</td>\n",
       "      <td>2019</td>\n",
       "    </tr>\n",
       "    <tr>\n",
       "      <th>1</th>\n",
       "      <td>2</td>\n",
       "      <td>2019-07-31 20:47:39.532560</td>\n",
       "      <td>-70</td>\n",
       "      <td>50</td>\n",
       "      <td>b'\\x01\\x00\\x00\\x00\\x00\\x00\\x00\\x00'</td>\n",
       "      <td>1</td>\n",
       "      <td>31</td>\n",
       "      <td>7</td>\n",
       "      <td>2019</td>\n",
       "    </tr>\n",
       "    <tr>\n",
       "      <th>2</th>\n",
       "      <td>3</td>\n",
       "      <td>2019-07-31 20:47:44.252507</td>\n",
       "      <td>-70</td>\n",
       "      <td>50</td>\n",
       "      <td>b'\\x01\\x00\\x00\\x00\\x00\\x00\\x00\\x00'</td>\n",
       "      <td>1</td>\n",
       "      <td>31</td>\n",
       "      <td>7</td>\n",
       "      <td>2019</td>\n",
       "    </tr>\n",
       "    <tr>\n",
       "      <th>3</th>\n",
       "      <td>4</td>\n",
       "      <td>2019-07-31 20:47:56.097304</td>\n",
       "      <td>-30</td>\n",
       "      <td>25</td>\n",
       "      <td>b'\\x02\\x00\\x00\\x00\\x00\\x00\\x00\\x00'</td>\n",
       "      <td>1</td>\n",
       "      <td>31</td>\n",
       "      <td>7</td>\n",
       "      <td>2019</td>\n",
       "    </tr>\n",
       "    <tr>\n",
       "      <th>4</th>\n",
       "      <td>5</td>\n",
       "      <td>2019-07-31 20:49:17.545028</td>\n",
       "      <td>-30</td>\n",
       "      <td>25</td>\n",
       "      <td>b'\\x02\\x00\\x00\\x00\\x00\\x00\\x00\\x00'</td>\n",
       "      <td>1</td>\n",
       "      <td>31</td>\n",
       "      <td>7</td>\n",
       "      <td>2019</td>\n",
       "    </tr>\n",
       "  </tbody>\n",
       "</table>\n",
       "</div>"
      ],
      "text/plain": [
       "   id                  scored_on  reality  accuracy  \\\n",
       "0   1 2019-07-31 20:46:21.817991      -70        50   \n",
       "1   2 2019-07-31 20:47:39.532560      -70        50   \n",
       "2   3 2019-07-31 20:47:44.252507      -70        50   \n",
       "3   4 2019-07-31 20:47:56.097304      -30        25   \n",
       "4   5 2019-07-31 20:49:17.545028      -30        25   \n",
       "\n",
       "                                   num  user_id  Day  Month  Year  \n",
       "0  b'\\x01\\x00\\x00\\x00\\x00\\x00\\x00\\x00'        1   31      7  2019  \n",
       "1  b'\\x01\\x00\\x00\\x00\\x00\\x00\\x00\\x00'        1   31      7  2019  \n",
       "2  b'\\x01\\x00\\x00\\x00\\x00\\x00\\x00\\x00'        1   31      7  2019  \n",
       "3  b'\\x02\\x00\\x00\\x00\\x00\\x00\\x00\\x00'        1   31      7  2019  \n",
       "4  b'\\x02\\x00\\x00\\x00\\x00\\x00\\x00\\x00'        1   31      7  2019  "
      ]
     },
     "execution_count": 25,
     "metadata": {},
     "output_type": "execute_result"
    }
   ],
   "source": [
    "df_scores['scored_on']=pd.to_datetime(df_scores.scored_on)\n",
    "df_scores['Day'] = df_scores['scored_on'].apply(lambda x: x.day)\n",
    "df_scores['Month'] = df_scores['scored_on'].apply(lambda x: x.month)\n",
    "df_scores['Year'] = df_scores['scored_on'].apply(lambda x: x.year)\n",
    "# df_scores['Date'] = df_scores['scored_on'].apply(lambda x: x.day x.month x.year)\n",
    "# df_scores['']\n",
    "# data['Month'] = data.Date.apply(lambda x: x.month)\n",
    "df_scores.head()"
   ]
  },
  {
   "cell_type": "code",
   "execution_count": null,
   "metadata": {},
   "outputs": [],
   "source": []
  },
  {
   "cell_type": "code",
   "execution_count": 26,
   "metadata": {},
   "outputs": [
    {
     "data": {
      "text/html": [
       "<div>\n",
       "<style scoped>\n",
       "    .dataframe tbody tr th:only-of-type {\n",
       "        vertical-align: middle;\n",
       "    }\n",
       "\n",
       "    .dataframe tbody tr th {\n",
       "        vertical-align: top;\n",
       "    }\n",
       "\n",
       "    .dataframe thead th {\n",
       "        text-align: right;\n",
       "    }\n",
       "</style>\n",
       "<table border=\"1\" class=\"dataframe\">\n",
       "  <thead>\n",
       "    <tr style=\"text-align: right;\">\n",
       "      <th></th>\n",
       "      <th>Day</th>\n",
       "      <th>id</th>\n",
       "      <th>reality</th>\n",
       "      <th>accuracy</th>\n",
       "      <th>user_id</th>\n",
       "      <th>Month</th>\n",
       "      <th>Year</th>\n",
       "    </tr>\n",
       "  </thead>\n",
       "  <tbody>\n",
       "    <tr>\n",
       "      <th>0</th>\n",
       "      <td>1</td>\n",
       "      <td>34.5</td>\n",
       "      <td>-26.770833</td>\n",
       "      <td>25.833333</td>\n",
       "      <td>1.0</td>\n",
       "      <td>8.0</td>\n",
       "      <td>2019.0</td>\n",
       "    </tr>\n",
       "    <tr>\n",
       "      <th>1</th>\n",
       "      <td>3</td>\n",
       "      <td>66.0</td>\n",
       "      <td>1.000000</td>\n",
       "      <td>33.000000</td>\n",
       "      <td>1.0</td>\n",
       "      <td>8.0</td>\n",
       "      <td>2019.0</td>\n",
       "    </tr>\n",
       "    <tr>\n",
       "      <th>2</th>\n",
       "      <td>31</td>\n",
       "      <td>5.5</td>\n",
       "      <td>-42.000000</td>\n",
       "      <td>32.500000</td>\n",
       "      <td>1.0</td>\n",
       "      <td>7.0</td>\n",
       "      <td>2019.0</td>\n",
       "    </tr>\n",
       "  </tbody>\n",
       "</table>\n",
       "</div>"
      ],
      "text/plain": [
       "   Day    id    reality   accuracy  user_id  Month    Year\n",
       "0    1  34.5 -26.770833  25.833333      1.0    8.0  2019.0\n",
       "1    3  66.0   1.000000  33.000000      1.0    8.0  2019.0\n",
       "2   31   5.5 -42.000000  32.500000      1.0    7.0  2019.0"
      ]
     },
     "execution_count": 26,
     "metadata": {},
     "output_type": "execute_result"
    }
   ],
   "source": [
    "scores = df_scores.groupby(['Day']).mean().reset_index()\n",
    "scores"
   ]
  },
  {
   "cell_type": "code",
   "execution_count": 41,
   "metadata": {},
   "outputs": [],
   "source": [
    "import json\n",
    "import bokeh\n",
    "from bokeh.plotting import figure\n",
    "from bokeh.embed import components"
   ]
  },
  {
   "cell_type": "code",
   "execution_count": 43,
   "metadata": {},
   "outputs": [],
   "source": [
    "TOOLS = 'crosshair,save,pan,box_zoom,reset,wheel_zoom'\n",
    "p = figure(title=\"Perception over Time\", y_axis_type=\"linear\",x_axis_type='datetime', tools = TOOLS)\n",
    "\n",
    "p.line(df_scores['scored_on'], df_scores.accuracy, legend=\"Accuracy\", line_color=\"magenta\", line_width = 3)\n",
    "p.line(df_scores['scored_on'], df_scores.reality, legend=\"Reality\", line_color=\"blue\", line_width = 3)\n",
    "p.circle(df_scores['scored_on'], df_scores.accuracy, line_color='magenta',fill_color=\"white\", size=8)\n",
    "p.circle(df_scores['scored_on'], df_scores.reality, line_color='blue',fill_color=\"white\", size=8)\n",
    "# p.line(stolen_property['Date'], stolen_property.IncidntNum, legend=\"stolen_property\", line_color=\"blue\", line_width = 3)\n",
    "\n",
    "p.legend.location = \"top_left\"\n",
    "\n",
    "p.xaxis.axis_label = 'Date'\n",
    "p.yaxis.axis_label = 'Value'\n",
    "\n",
    "# output_file(\"multiline_plot.html\", title=\"Multi Line Plot\")\n",
    "\n",
    "# show(p)  # open a browser\n",
    "\n",
    "script, div = components(p)"
   ]
  },
  {
   "cell_type": "code",
   "execution_count": 46,
   "metadata": {},
   "outputs": [
    {
     "data": {
      "text/plain": [
       "'\\n<div class=\"bk-root\" id=\"5c30ee5e-11c0-4931-9b9a-c09015b25189\"></div>'"
      ]
     },
     "execution_count": 46,
     "metadata": {},
     "output_type": "execute_result"
    }
   ],
   "source": [
    "div"
   ]
  },
  {
   "cell_type": "code",
   "execution_count": 44,
   "metadata": {},
   "outputs": [
    {
     "data": {
      "text/plain": [
       "'\\n<script type=\"text/javascript\">\\n  (function() {\\n    var fn = function() {\\n      Bokeh.safely(function() {\\n        (function(root) {\\n          function embed_document(root) {\\n            \\n          var docs_json = \\'{\"b2bb40f8-7dfa-4be5-8c39-c23ff3e514f8\":{\"roots\":{\"references\":[{\"attributes\":{\"data_source\":{\"id\":\"3428\",\"type\":\"ColumnDataSource\"},\"glyph\":{\"id\":\"3429\",\"type\":\"Line\"},\"hover_glyph\":null,\"muted_glyph\":null,\"nonselection_glyph\":{\"id\":\"3430\",\"type\":\"Line\"},\"selection_glyph\":null,\"view\":{\"id\":\"3432\",\"type\":\"CDSView\"}},\"id\":\"3431\",\"type\":\"GlyphRenderer\"},{\"attributes\":{\"data_source\":{\"id\":\"3484\",\"type\":\"ColumnDataSource\"},\"glyph\":{\"id\":\"3485\",\"type\":\"Circle\"},\"hover_glyph\":null,\"muted_glyph\":null,\"nonselection_glyph\":{\"id\":\"3486\",\"type\":\"Circle\"},\"selection_glyph\":null,\"view\":{\"id\":\"3488\",\"type\":\"CDSView\"}},\"id\":\"3487\",\"type\":\"GlyphRenderer\"},{\"attributes\":{\"bottom_units\":\"screen\",\"fill_alpha\":{\"value\":0.5},\"fill_color\":{\"value\":\"lightgrey\"},\"left_units\":\"screen\",\"level\":\"overlay\",\"line_alpha\":{\"value\":1.0},\"line_color\":{\"value\":\"black\"},\"line_dash\":[4,4],\"line_width\":{\"value\":2},\"plot\":null,\"render_mode\":\"css\",\"right_units\":\"screen\",\"top_units\":\"screen\"},\"id\":\"3422\",\"type\":\"BoxAnnotation\"},{\"attributes\":{\"source\":{\"id\":\"3484\",\"type\":\"ColumnDataSource\"}},\"id\":\"3488\",\"type\":\"CDSView\"},{\"attributes\":{\"below\":[{\"id\":\"3403\",\"type\":\"DatetimeAxis\"}],\"left\":[{\"id\":\"3408\",\"type\":\"LinearAxis\"}],\"renderers\":[{\"id\":\"3403\",\"type\":\"DatetimeAxis\"},{\"id\":\"3407\",\"type\":\"Grid\"},{\"id\":\"3408\",\"type\":\"LinearAxis\"},{\"id\":\"3412\",\"type\":\"Grid\"},{\"id\":\"3422\",\"type\":\"BoxAnnotation\"},{\"id\":\"3451\",\"type\":\"Legend\"},{\"id\":\"3431\",\"type\":\"GlyphRenderer\"},{\"id\":\"3456\",\"type\":\"GlyphRenderer\"},{\"id\":\"3482\",\"type\":\"GlyphRenderer\"},{\"id\":\"3487\",\"type\":\"GlyphRenderer\"}],\"title\":{\"id\":\"3392\",\"type\":\"Title\"},\"toolbar\":{\"id\":\"3419\",\"type\":\"Toolbar\"},\"x_range\":{\"id\":\"3395\",\"type\":\"DataRange1d\"},\"x_scale\":{\"id\":\"3399\",\"type\":\"LinearScale\"},\"y_range\":{\"id\":\"3397\",\"type\":\"DataRange1d\"},\"y_scale\":{\"id\":\"3401\",\"type\":\"LinearScale\"}},\"id\":\"3393\",\"subtype\":\"Figure\",\"type\":\"Plot\"},{\"attributes\":{\"source\":{\"id\":\"3428\",\"type\":\"ColumnDataSource\"}},\"id\":\"3432\",\"type\":\"CDSView\"},{\"attributes\":{\"active_drag\":\"auto\",\"active_inspect\":\"auto\",\"active_multi\":null,\"active_scroll\":\"auto\",\"active_tap\":\"auto\",\"tools\":[{\"id\":\"3413\",\"type\":\"CrosshairTool\"},{\"id\":\"3414\",\"type\":\"SaveTool\"},{\"id\":\"3415\",\"type\":\"PanTool\"},{\"id\":\"3416\",\"type\":\"BoxZoomTool\"},{\"id\":\"3417\",\"type\":\"ResetTool\"},{\"id\":\"3418\",\"type\":\"WheelZoomTool\"}]},\"id\":\"3419\",\"type\":\"Toolbar\"},{\"attributes\":{\"fill_alpha\":{\"value\":0.1},\"fill_color\":{\"value\":\"#1f77b4\"},\"line_alpha\":{\"value\":0.1},\"line_color\":{\"value\":\"#1f77b4\"},\"size\":{\"units\":\"screen\",\"value\":8},\"x\":{\"field\":\"x\"},\"y\":{\"field\":\"y\"}},\"id\":\"3486\",\"type\":\"Circle\"},{\"attributes\":{},\"id\":\"3508\",\"type\":\"Selection\"},{\"attributes\":{\"mantissas\":[1,2,5],\"max_interval\":500.0,\"num_minor_ticks\":0},\"id\":\"3438\",\"type\":\"AdaptiveTicker\"},{\"attributes\":{\"fill_color\":{\"value\":\"white\"},\"line_color\":{\"value\":\"blue\"},\"size\":{\"units\":\"screen\",\"value\":8},\"x\":{\"field\":\"x\"},\"y\":{\"field\":\"y\"}},\"id\":\"3485\",\"type\":\"Circle\"},{\"attributes\":{},\"id\":\"3509\",\"type\":\"UnionRenderers\"},{\"attributes\":{},\"id\":\"3510\",\"type\":\"Selection\"},{\"attributes\":{},\"id\":\"3511\",\"type\":\"UnionRenderers\"},{\"attributes\":{\"base\":60,\"mantissas\":[1,2,5,10,15,20,30],\"max_interval\":1800000.0,\"min_interval\":1000.0,\"num_minor_ticks\":0},\"id\":\"3439\",\"type\":\"AdaptiveTicker\"},{\"attributes\":{},\"id\":\"3512\",\"type\":\"Selection\"},{\"attributes\":{\"axis_label\":\"Date\",\"formatter\":{\"id\":\"3434\",\"type\":\"DatetimeTickFormatter\"},\"plot\":{\"id\":\"3393\",\"subtype\":\"Figure\",\"type\":\"Plot\"},\"ticker\":{\"id\":\"3404\",\"type\":\"DatetimeTicker\"}},\"id\":\"3403\",\"type\":\"DatetimeAxis\"},{\"attributes\":{},\"id\":\"3513\",\"type\":\"UnionRenderers\"},{\"attributes\":{},\"id\":\"3434\",\"type\":\"DatetimeTickFormatter\"},{\"attributes\":{},\"id\":\"3436\",\"type\":\"BasicTickFormatter\"},{\"attributes\":{\"num_minor_ticks\":5,\"tickers\":[{\"id\":\"3438\",\"type\":\"AdaptiveTicker\"},{\"id\":\"3439\",\"type\":\"AdaptiveTicker\"},{\"id\":\"3440\",\"type\":\"AdaptiveTicker\"},{\"id\":\"3441\",\"type\":\"DaysTicker\"},{\"id\":\"3442\",\"type\":\"DaysTicker\"},{\"id\":\"3443\",\"type\":\"DaysTicker\"},{\"id\":\"3444\",\"type\":\"DaysTicker\"},{\"id\":\"3445\",\"type\":\"MonthsTicker\"},{\"id\":\"3446\",\"type\":\"MonthsTicker\"},{\"id\":\"3447\",\"type\":\"MonthsTicker\"},{\"id\":\"3448\",\"type\":\"MonthsTicker\"},{\"id\":\"3449\",\"type\":\"YearsTicker\"}]},\"id\":\"3404\",\"type\":\"DatetimeTicker\"},{\"attributes\":{\"days\":[1,2,3,4,5,6,7,8,9,10,11,12,13,14,15,16,17,18,19,20,21,22,23,24,25,26,27,28,29,30,31]},\"id\":\"3441\",\"type\":\"DaysTicker\"},{\"attributes\":{\"days\":[1,4,7,10,13,16,19,22,25,28]},\"id\":\"3442\",\"type\":\"DaysTicker\"},{\"attributes\":{\"days\":[1,8,15,22]},\"id\":\"3443\",\"type\":\"DaysTicker\"},{\"attributes\":{\"plot\":{\"id\":\"3393\",\"subtype\":\"Figure\",\"type\":\"Plot\"},\"ticker\":{\"id\":\"3404\",\"type\":\"DatetimeTicker\"}},\"id\":\"3407\",\"type\":\"Grid\"},{\"attributes\":{\"days\":[1,15]},\"id\":\"3444\",\"type\":\"DaysTicker\"},{\"attributes\":{\"months\":[0,1,2,3,4,5,6,7,8,9,10,11]},\"id\":\"3445\",\"type\":\"MonthsTicker\"},{\"attributes\":{\"months\":[0,2,4,6,8,10]},\"id\":\"3446\",\"type\":\"MonthsTicker\"},{\"attributes\":{\"months\":[0,4,8]},\"id\":\"3447\",\"type\":\"MonthsTicker\"},{\"attributes\":{},\"id\":\"3418\",\"type\":\"WheelZoomTool\"},{\"attributes\":{\"plot\":null,\"text\":\"Perception over Time\"},\"id\":\"3392\",\"type\":\"Title\"},{\"attributes\":{\"months\":[0,6]},\"id\":\"3448\",\"type\":\"MonthsTicker\"},{\"attributes\":{\"callback\":null,\"data\":{\"x\":{\"__ndarray__\":\"259HipzEdkL2yECdnMR2Qh3IZ56cxHZC3RRMoZzEdkJzkC61nMR2QvYCb9qcxHZCP6eI+5zEdkLD44MincR2QjGCAhCexHZC9GP0EZ7EdkJER6Tt6cR2QmitXfnpxHZCfWeh+enEdkIIZn8d6sR2QmB5USPqxHZCI/sAJOrEdkKa2Rgv6sR2QjnQ0i/qxHZCatoTVurEdkIlFLZY6sR2QnlVmoLqxHZCcTNeh+rEdkIZ2jWM6sR2QtWi/5DqxHZCf1KHkurEdkIKjxGU6sR2Qi0cSpnqxHZCTMkemurEdkLFDvqa6sR2QkqwPqHqxHZCybL7p+rEdkJx5xvh6sR2QrppiubqxHZCPZrWKuvEdkIxCGYr68R2QvSb8lrrxHZCO+24f+vEdkLhPKrY68R2Qr4P9OHrxHZC9jZN6uvEdkJKfGH268R2QjMLqfzrxHZCahxdAuzEdkKgYNEE7MR2QudN2AvsxHZCx0sADezEdkJebEYQ7MR2QhTwxxLsxHZC6WaHFuzEdkJOVGAX7MR2QiVIshrsxHZCkVWAKezEdkIUBMkt7MR2QuEiLDjsxHZC4cB6ROzEdkLJuEpH7MR2QhSotbTsxHZCybpktuzEdkISH4CAecV2QjOtHJZ5xXZC00eIl3nFdkKqAZSvecV2QpYZFr95xXZC7K1zTXvFdkJmanRhe8V2QoscMmJ7xXZCdcMsZnvFdkI7LaBte8V2Qv6wgLx7xXZCWlR2VH3FdkLh4khWfcV2QjdPVoOAxXZCZi4jdYbFdkI=\",\"dtype\":\"float64\",\"shape\":[73]},\"y\":[50,50,50,25,25,25,25,25,25,25,25,25,25,25,25,25,25,25,25,25,25,25,25,25,25,25,25,25,25,25,25,25,25,25,25,25,25,25,25,25,25,25,25,25,25,25,25,25,25,25,25,25,25,33,33,33,33,33,33,33,33,33,33,33,33,33,33,33,33,33,33,33,33]},\"selected\":{\"id\":\"3475\",\"type\":\"Selection\"},\"selection_policy\":{\"id\":\"3476\",\"type\":\"UnionRenderers\"}},\"id\":\"3428\",\"type\":\"ColumnDataSource\"},{\"attributes\":{},\"id\":\"3449\",\"type\":\"YearsTicker\"},{\"attributes\":{},\"id\":\"3399\",\"type\":\"LinearScale\"},{\"attributes\":{},\"id\":\"3401\",\"type\":\"LinearScale\"},{\"attributes\":{\"items\":[{\"id\":\"3452\",\"type\":\"LegendItem\"},{\"id\":\"3478\",\"type\":\"LegendItem\"}],\"location\":\"top_left\",\"plot\":{\"id\":\"3393\",\"subtype\":\"Figure\",\"type\":\"Plot\"}},\"id\":\"3451\",\"type\":\"Legend\"},{\"attributes\":{\"callback\":null},\"id\":\"3397\",\"type\":\"DataRange1d\"},{\"attributes\":{\"label\":{\"value\":\"Accuracy\"},\"renderers\":[{\"id\":\"3431\",\"type\":\"GlyphRenderer\"}]},\"id\":\"3452\",\"type\":\"LegendItem\"},{\"attributes\":{\"callback\":null},\"id\":\"3395\",\"type\":\"DataRange1d\"},{\"attributes\":{\"line_color\":\"magenta\",\"line_width\":3,\"x\":{\"field\":\"x\"},\"y\":{\"field\":\"y\"}},\"id\":\"3429\",\"type\":\"Line\"},{\"attributes\":{\"callback\":null,\"data\":{\"x\":{\"__ndarray__\":\"259HipzEdkL2yECdnMR2Qh3IZ56cxHZC3RRMoZzEdkJzkC61nMR2QvYCb9qcxHZCP6eI+5zEdkLD44MincR2QjGCAhCexHZC9GP0EZ7EdkJER6Tt6cR2QmitXfnpxHZCfWeh+enEdkIIZn8d6sR2QmB5USPqxHZCI/sAJOrEdkKa2Rgv6sR2QjnQ0i/qxHZCatoTVurEdkIlFLZY6sR2QnlVmoLqxHZCcTNeh+rEdkIZ2jWM6sR2QtWi/5DqxHZCf1KHkurEdkIKjxGU6sR2Qi0cSpnqxHZCTMkemurEdkLFDvqa6sR2QkqwPqHqxHZCybL7p+rEdkJx5xvh6sR2QrppiubqxHZCPZrWKuvEdkIxCGYr68R2QvSb8lrrxHZCO+24f+vEdkLhPKrY68R2Qr4P9OHrxHZC9jZN6uvEdkJKfGH268R2QjMLqfzrxHZCahxdAuzEdkKgYNEE7MR2QudN2AvsxHZCx0sADezEdkJebEYQ7MR2QhTwxxLsxHZC6WaHFuzEdkJOVGAX7MR2QiVIshrsxHZCkVWAKezEdkIUBMkt7MR2QuEiLDjsxHZC4cB6ROzEdkLJuEpH7MR2QhSotbTsxHZCybpktuzEdkISH4CAecV2QjOtHJZ5xXZC00eIl3nFdkKqAZSvecV2QpYZFr95xXZC7K1zTXvFdkJmanRhe8V2QoscMmJ7xXZCdcMsZnvFdkI7LaBte8V2Qv6wgLx7xXZCWlR2VH3FdkLh4khWfcV2QjdPVoOAxXZCZi4jdYbFdkI=\",\"dtype\":\"float64\",\"shape\":[73]},\"y\":[50,50,50,25,25,25,25,25,25,25,25,25,25,25,25,25,25,25,25,25,25,25,25,25,25,25,25,25,25,25,25,25,25,25,25,25,25,25,25,25,25,25,25,25,25,25,25,25,25,25,25,25,25,33,33,33,33,33,33,33,33,33,33,33,33,33,33,33,33,33,33,33,33]},\"selected\":{\"id\":\"3510\",\"type\":\"Selection\"},\"selection_policy\":{\"id\":\"3511\",\"type\":\"UnionRenderers\"}},\"id\":\"3479\",\"type\":\"ColumnDataSource\"},{\"attributes\":{},\"id\":\"3417\",\"type\":\"ResetTool\"},{\"attributes\":{\"line_alpha\":0.1,\"line_color\":\"#1f77b4\",\"line_width\":3,\"x\":{\"field\":\"x\"},\"y\":{\"field\":\"y\"}},\"id\":\"3430\",\"type\":\"Line\"},{\"attributes\":{\"line_alpha\":0.1,\"line_color\":\"#1f77b4\",\"line_width\":3,\"x\":{\"field\":\"x\"},\"y\":{\"field\":\"y\"}},\"id\":\"3455\",\"type\":\"Line\"},{\"attributes\":{\"data_source\":{\"id\":\"3453\",\"type\":\"ColumnDataSource\"},\"glyph\":{\"id\":\"3454\",\"type\":\"Line\"},\"hover_glyph\":null,\"muted_glyph\":null,\"nonselection_glyph\":{\"id\":\"3455\",\"type\":\"Line\"},\"selection_glyph\":null,\"view\":{\"id\":\"3457\",\"type\":\"CDSView\"}},\"id\":\"3456\",\"type\":\"GlyphRenderer\"},{\"attributes\":{\"overlay\":{\"id\":\"3422\",\"type\":\"BoxAnnotation\"}},\"id\":\"3416\",\"type\":\"BoxZoomTool\"},{\"attributes\":{\"source\":{\"id\":\"3453\",\"type\":\"ColumnDataSource\"}},\"id\":\"3457\",\"type\":\"CDSView\"},{\"attributes\":{\"base\":24,\"mantissas\":[1,2,4,6,8,12],\"max_interval\":43200000.0,\"min_interval\":3600000.0,\"num_minor_ticks\":0},\"id\":\"3440\",\"type\":\"AdaptiveTicker\"},{\"attributes\":{},\"id\":\"3415\",\"type\":\"PanTool\"},{\"attributes\":{},\"id\":\"3475\",\"type\":\"Selection\"},{\"attributes\":{\"callback\":null,\"data\":{\"x\":{\"__ndarray__\":\"259HipzEdkL2yECdnMR2Qh3IZ56cxHZC3RRMoZzEdkJzkC61nMR2QvYCb9qcxHZCP6eI+5zEdkLD44MincR2QjGCAhCexHZC9GP0EZ7EdkJER6Tt6cR2QmitXfnpxHZCfWeh+enEdkIIZn8d6sR2QmB5USPqxHZCI/sAJOrEdkKa2Rgv6sR2QjnQ0i/qxHZCatoTVurEdkIlFLZY6sR2QnlVmoLqxHZCcTNeh+rEdkIZ2jWM6sR2QtWi/5DqxHZCf1KHkurEdkIKjxGU6sR2Qi0cSpnqxHZCTMkemurEdkLFDvqa6sR2QkqwPqHqxHZCybL7p+rEdkJx5xvh6sR2QrppiubqxHZCPZrWKuvEdkIxCGYr68R2QvSb8lrrxHZCO+24f+vEdkLhPKrY68R2Qr4P9OHrxHZC9jZN6uvEdkJKfGH268R2QjMLqfzrxHZCahxdAuzEdkKgYNEE7MR2QudN2AvsxHZCx0sADezEdkJebEYQ7MR2QhTwxxLsxHZC6WaHFuzEdkJOVGAX7MR2QiVIshrsxHZCkVWAKezEdkIUBMkt7MR2QuEiLDjsxHZC4cB6ROzEdkLJuEpH7MR2QhSotbTsxHZCybpktuzEdkISH4CAecV2QjOtHJZ5xXZC00eIl3nFdkKqAZSvecV2QpYZFr95xXZC7K1zTXvFdkJmanRhe8V2QoscMmJ7xXZCdcMsZnvFdkI7LaBte8V2Qv6wgLx7xXZCWlR2VH3FdkLh4khWfcV2QjdPVoOAxXZCZi4jdYbFdkI=\",\"dtype\":\"float64\",\"shape\":[73]},\"y\":[-70,-70,-70,-30,-30,-30,-30,-30,-30,-30,-30,-30,-30,-30,-30,-30,-30,-30,-30,-30,-30,-30,-30,-30,-30,-30,-30,-30,-30,-30,-30,-30,-30,-30,-30,-30,-30,-30,-30,-30,-30,-30,-30,-30,-30,-30,-30,-30,-30,-30,-30,-30,-30,1,1,1,1,1,1,1,1,1,1,1,1,1,1,1,1,1,1,1,1]},\"selected\":{\"id\":\"3508\",\"type\":\"Selection\"},\"selection_policy\":{\"id\":\"3509\",\"type\":\"UnionRenderers\"}},\"id\":\"3453\",\"type\":\"ColumnDataSource\"},{\"attributes\":{\"line_color\":\"blue\",\"line_width\":3,\"x\":{\"field\":\"x\"},\"y\":{\"field\":\"y\"}},\"id\":\"3454\",\"type\":\"Line\"},{\"attributes\":{},\"id\":\"3476\",\"type\":\"UnionRenderers\"},{\"attributes\":{\"source\":{\"id\":\"3479\",\"type\":\"ColumnDataSource\"}},\"id\":\"3483\",\"type\":\"CDSView\"},{\"attributes\":{},\"id\":\"3413\",\"type\":\"CrosshairTool\"},{\"attributes\":{\"fill_alpha\":{\"value\":0.1},\"fill_color\":{\"value\":\"#1f77b4\"},\"line_alpha\":{\"value\":0.1},\"line_color\":{\"value\":\"#1f77b4\"},\"size\":{\"units\":\"screen\",\"value\":8},\"x\":{\"field\":\"x\"},\"y\":{\"field\":\"y\"}},\"id\":\"3481\",\"type\":\"Circle\"},{\"attributes\":{\"label\":{\"value\":\"Reality\"},\"renderers\":[{\"id\":\"3456\",\"type\":\"GlyphRenderer\"}]},\"id\":\"3478\",\"type\":\"LegendItem\"},{\"attributes\":{},\"id\":\"3414\",\"type\":\"SaveTool\"},{\"attributes\":{\"callback\":null,\"data\":{\"x\":{\"__ndarray__\":\"259HipzEdkL2yECdnMR2Qh3IZ56cxHZC3RRMoZzEdkJzkC61nMR2QvYCb9qcxHZCP6eI+5zEdkLD44MincR2QjGCAhCexHZC9GP0EZ7EdkJER6Tt6cR2QmitXfnpxHZCfWeh+enEdkIIZn8d6sR2QmB5USPqxHZCI/sAJOrEdkKa2Rgv6sR2QjnQ0i/qxHZCatoTVurEdkIlFLZY6sR2QnlVmoLqxHZCcTNeh+rEdkIZ2jWM6sR2QtWi/5DqxHZCf1KHkurEdkIKjxGU6sR2Qi0cSpnqxHZCTMkemurEdkLFDvqa6sR2QkqwPqHqxHZCybL7p+rEdkJx5xvh6sR2QrppiubqxHZCPZrWKuvEdkIxCGYr68R2QvSb8lrrxHZCO+24f+vEdkLhPKrY68R2Qr4P9OHrxHZC9jZN6uvEdkJKfGH268R2QjMLqfzrxHZCahxdAuzEdkKgYNEE7MR2QudN2AvsxHZCx0sADezEdkJebEYQ7MR2QhTwxxLsxHZC6WaHFuzEdkJOVGAX7MR2QiVIshrsxHZCkVWAKezEdkIUBMkt7MR2QuEiLDjsxHZC4cB6ROzEdkLJuEpH7MR2QhSotbTsxHZCybpktuzEdkISH4CAecV2QjOtHJZ5xXZC00eIl3nFdkKqAZSvecV2QpYZFr95xXZC7K1zTXvFdkJmanRhe8V2QoscMmJ7xXZCdcMsZnvFdkI7LaBte8V2Qv6wgLx7xXZCWlR2VH3FdkLh4khWfcV2QjdPVoOAxXZCZi4jdYbFdkI=\",\"dtype\":\"float64\",\"shape\":[73]},\"y\":[-70,-70,-70,-30,-30,-30,-30,-30,-30,-30,-30,-30,-30,-30,-30,-30,-30,-30,-30,-30,-30,-30,-30,-30,-30,-30,-30,-30,-30,-30,-30,-30,-30,-30,-30,-30,-30,-30,-30,-30,-30,-30,-30,-30,-30,-30,-30,-30,-30,-30,-30,-30,-30,1,1,1,1,1,1,1,1,1,1,1,1,1,1,1,1,1,1,1,1]},\"selected\":{\"id\":\"3512\",\"type\":\"Selection\"},\"selection_policy\":{\"id\":\"3513\",\"type\":\"UnionRenderers\"}},\"id\":\"3484\",\"type\":\"ColumnDataSource\"},{\"attributes\":{\"dimension\":1,\"plot\":{\"id\":\"3393\",\"subtype\":\"Figure\",\"type\":\"Plot\"},\"ticker\":{\"id\":\"3409\",\"type\":\"BasicTicker\"}},\"id\":\"3412\",\"type\":\"Grid\"},{\"attributes\":{\"fill_color\":{\"value\":\"white\"},\"line_color\":{\"value\":\"magenta\"},\"size\":{\"units\":\"screen\",\"value\":8},\"x\":{\"field\":\"x\"},\"y\":{\"field\":\"y\"}},\"id\":\"3480\",\"type\":\"Circle\"},{\"attributes\":{\"axis_label\":\"Value\",\"formatter\":{\"id\":\"3436\",\"type\":\"BasicTickFormatter\"},\"plot\":{\"id\":\"3393\",\"subtype\":\"Figure\",\"type\":\"Plot\"},\"ticker\":{\"id\":\"3409\",\"type\":\"BasicTicker\"}},\"id\":\"3408\",\"type\":\"LinearAxis\"},{\"attributes\":{\"data_source\":{\"id\":\"3479\",\"type\":\"ColumnDataSource\"},\"glyph\":{\"id\":\"3480\",\"type\":\"Circle\"},\"hover_glyph\":null,\"muted_glyph\":null,\"nonselection_glyph\":{\"id\":\"3481\",\"type\":\"Circle\"},\"selection_glyph\":null,\"view\":{\"id\":\"3483\",\"type\":\"CDSView\"}},\"id\":\"3482\",\"type\":\"GlyphRenderer\"},{\"attributes\":{},\"id\":\"3409\",\"type\":\"BasicTicker\"}],\"root_ids\":[\"3393\"]},\"title\":\"Bokeh Application\",\"version\":\"1.0.2\"}}\\';\\n          var render_items = [{\"docid\":\"b2bb40f8-7dfa-4be5-8c39-c23ff3e514f8\",\"roots\":{\"3393\":\"5c30ee5e-11c0-4931-9b9a-c09015b25189\"}}];\\n          root.Bokeh.embed.embed_items(docs_json, render_items);\\n        \\n          }\\n          if (root.Bokeh !== undefined) {\\n            embed_document(root);\\n          } else {\\n            var attempts = 0;\\n            var timer = setInterval(function(root) {\\n              if (root.Bokeh !== undefined) {\\n                embed_document(root);\\n                clearInterval(timer);\\n              }\\n              attempts++;\\n              if (attempts > 100) {\\n                console.log(\"Bokeh: ERROR: Unable to run BokehJS code because BokehJS library is missing\");\\n                clearInterval(timer);\\n              }\\n            }, 10, root)\\n          }\\n        })(window);\\n      });\\n    };\\n    if (document.readyState != \"loading\") fn();\\n    else document.addEventListener(\"DOMContentLoaded\", fn);\\n  })();\\n</script>'"
      ]
     },
     "execution_count": 44,
     "metadata": {},
     "output_type": "execute_result"
    }
   ],
   "source": [
    "script"
   ]
  },
  {
   "cell_type": "code",
   "execution_count": 29,
   "metadata": {},
   "outputs": [],
   "source": [
    "TOOLS = 'save,pan,box_zoom,reset,wheel_zoom,hover'\n",
    "p = figure(title=\"Year-wise total number of crimes\", y_axis_type=\"linear\", plot_height = 400,\n",
    "           tools = TOOLS, plot_width = 800)\n",
    "p.xaxis.axis_label = 'Date'\n",
    "p.yaxis.axis_label = 'Reality Score'\n",
    "p.circle(df_scores.scored_on, df_scores.reality, size = 5, color = 'red')\n",
    "\n",
    "p.line(df_scores.scored_on, df_scores.reality,line_color=\"red\", line_width = 3)\n",
    "p.select_one(HoverTool).tooltips = [\n",
    "    ('Date', '@x'),\n",
    "    ('Score', '@y'),\n",
    "]\n",
    "\n",
    "output_file(\"line_chart.html\", title=\"Reality Chart\")\n",
    "show(p)"
   ]
  },
  {
   "cell_type": "code",
   "execution_count": null,
   "metadata": {},
   "outputs": [],
   "source": []
  },
  {
   "cell_type": "code",
   "execution_count": 95,
   "metadata": {},
   "outputs": [],
   "source": [
    "df  = pd.read_sql_query(query, con=con, params = param)"
   ]
  },
  {
   "cell_type": "code",
   "execution_count": 99,
   "metadata": {},
   "outputs": [
    {
     "data": {
      "text/html": [
       "<div>\n",
       "<style scoped>\n",
       "    .dataframe tbody tr th:only-of-type {\n",
       "        vertical-align: middle;\n",
       "    }\n",
       "\n",
       "    .dataframe tbody tr th {\n",
       "        vertical-align: top;\n",
       "    }\n",
       "\n",
       "    .dataframe thead th {\n",
       "        text-align: right;\n",
       "    }\n",
       "</style>\n",
       "<table border=\"1\" class=\"dataframe\">\n",
       "  <thead>\n",
       "    <tr style=\"text-align: right;\">\n",
       "      <th></th>\n",
       "      <th>id</th>\n",
       "      <th>desc</th>\n",
       "      <th>want</th>\n",
       "      <th>likelihood</th>\n",
       "      <th>happened</th>\n",
       "      <th>user_id</th>\n",
       "    </tr>\n",
       "  </thead>\n",
       "  <tbody>\n",
       "    <tr>\n",
       "      <th>0</th>\n",
       "      <td>1</td>\n",
       "      <td>test</td>\n",
       "      <td>Yes</td>\n",
       "      <td>50</td>\n",
       "      <td>No</td>\n",
       "      <td>1</td>\n",
       "    </tr>\n",
       "    <tr>\n",
       "      <th>1</th>\n",
       "      <td>2</td>\n",
       "      <td>test</td>\n",
       "      <td>Yes</td>\n",
       "      <td>80</td>\n",
       "      <td>Yes</td>\n",
       "      <td>1</td>\n",
       "    </tr>\n",
       "  </tbody>\n",
       "</table>\n",
       "</div>"
      ],
      "text/plain": [
       "   id  desc want  likelihood happened  user_id\n",
       "0   1  test  Yes          50       No        1\n",
       "1   2  test  Yes          80      Yes        1"
      ]
     },
     "execution_count": 99,
     "metadata": {},
     "output_type": "execute_result"
    }
   ],
   "source": [
    "df"
   ]
  },
  {
   "cell_type": "code",
   "execution_count": 114,
   "metadata": {},
   "outputs": [],
   "source": [
    "expected = df.likelihood.mean()/100"
   ]
  },
  {
   "cell_type": "code",
   "execution_count": 115,
   "metadata": {},
   "outputs": [
    {
     "data": {
      "text/plain": [
       "0.65"
      ]
     },
     "execution_count": 115,
     "metadata": {},
     "output_type": "execute_result"
    }
   ],
   "source": [
    "expected"
   ]
  },
  {
   "cell_type": "code",
   "execution_count": 116,
   "metadata": {},
   "outputs": [],
   "source": [
    "df.happened = df.happened.replace('No',0)\n",
    "df.happened = df.happened.replace('Yes',1)"
   ]
  },
  {
   "cell_type": "code",
   "execution_count": 117,
   "metadata": {},
   "outputs": [],
   "source": [
    "actual = (df.happened.sum()) / (df.happened.count())"
   ]
  },
  {
   "cell_type": "code",
   "execution_count": 118,
   "metadata": {},
   "outputs": [
    {
     "data": {
      "text/plain": [
       "0.5"
      ]
     },
     "execution_count": 118,
     "metadata": {},
     "output_type": "execute_result"
    }
   ],
   "source": [
    "actual "
   ]
  },
  {
   "cell_type": "code",
   "execution_count": 124,
   "metadata": {},
   "outputs": [],
   "source": [
    "score = round((expected - actual),2)"
   ]
  },
  {
   "cell_type": "code",
   "execution_count": 125,
   "metadata": {},
   "outputs": [
    {
     "data": {
      "text/plain": [
       "0.15"
      ]
     },
     "execution_count": 125,
     "metadata": {},
     "output_type": "execute_result"
    }
   ],
   "source": [
    "score"
   ]
  },
  {
   "cell_type": "code",
   "execution_count": null,
   "metadata": {},
   "outputs": [],
   "source": []
  }
 ],
 "metadata": {
  "kernelspec": {
   "display_name": "Python 3",
   "language": "python",
   "name": "python3"
  },
  "language_info": {
   "codemirror_mode": {
    "name": "ipython",
    "version": 3
   },
   "file_extension": ".py",
   "mimetype": "text/x-python",
   "name": "python",
   "nbconvert_exporter": "python",
   "pygments_lexer": "ipython3",
   "version": "3.7.1"
  }
 },
 "nbformat": 4,
 "nbformat_minor": 2
}
