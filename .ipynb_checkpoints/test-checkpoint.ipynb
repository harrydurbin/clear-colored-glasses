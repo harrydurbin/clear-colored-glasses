{
 "cells": [
  {
   "cell_type": "code",
   "execution_count": 16,
   "metadata": {},
   "outputs": [],
   "source": [
    "import sqlite3\n",
    "import sqlalchemy\n",
    "from sqlalchemy import create_engine\n",
    "import pandas as pd"
   ]
  },
  {
   "cell_type": "code",
   "execution_count": 17,
   "metadata": {},
   "outputs": [],
   "source": [
    "db_file = \"project/data-dev.sqlite\"\n",
    "con = sqlite3.connect(db_file)\n",
    "cur = con.cursor()"
   ]
  },
  {
   "cell_type": "code",
   "execution_count": 18,
   "metadata": {
    "scrolled": true
   },
   "outputs": [],
   "source": [
    "query = \"SELECT * FROM Event WHERE user_id = ?;\"\n",
    "param = (1,)\n",
    "cur.execute(query,param)\n",
    "events = cur.fetchall()"
   ]
  },
  {
   "cell_type": "code",
   "execution_count": 19,
   "metadata": {},
   "outputs": [
    {
     "data": {
      "text/plain": [
       "[(1, 'test', 'Yes', 30, 'Yes', 1),\n",
       " (2, 'test 5', 'Yes', 11, 'No', 1),\n",
       " (3, 'adf', 'Yes', 60, 'No', 1)]"
      ]
     },
     "execution_count": 19,
     "metadata": {},
     "output_type": "execute_result"
    }
   ],
   "source": [
    "events"
   ]
  },
  {
   "cell_type": "code",
   "execution_count": 20,
   "metadata": {},
   "outputs": [],
   "source": [
    "query1 = \"SELECT * FROM Score WHERE user_id = ?;\"\n",
    "param1 = (1,)\n",
    "cur.execute(query,param)\n",
    "scores = cur.fetchall()"
   ]
  },
  {
   "cell_type": "code",
   "execution_count": 21,
   "metadata": {},
   "outputs": [],
   "source": [
    "df_scores  = pd.read_sql_query(query1, con=con, params = param1)"
   ]
  },
  {
   "cell_type": "code",
   "execution_count": 22,
   "metadata": {},
   "outputs": [
    {
     "data": {
      "text/html": [
       "<div>\n",
       "<style scoped>\n",
       "    .dataframe tbody tr th:only-of-type {\n",
       "        vertical-align: middle;\n",
       "    }\n",
       "\n",
       "    .dataframe tbody tr th {\n",
       "        vertical-align: top;\n",
       "    }\n",
       "\n",
       "    .dataframe thead th {\n",
       "        text-align: right;\n",
       "    }\n",
       "</style>\n",
       "<table border=\"1\" class=\"dataframe\">\n",
       "  <thead>\n",
       "    <tr style=\"text-align: right;\">\n",
       "      <th></th>\n",
       "      <th>id</th>\n",
       "      <th>scored_on</th>\n",
       "      <th>reality</th>\n",
       "      <th>accuracy</th>\n",
       "      <th>num</th>\n",
       "      <th>user_id</th>\n",
       "    </tr>\n",
       "  </thead>\n",
       "  <tbody>\n",
       "    <tr>\n",
       "      <th>0</th>\n",
       "      <td>1</td>\n",
       "      <td>2019-07-31 20:46:21.817991</td>\n",
       "      <td>-70</td>\n",
       "      <td>50</td>\n",
       "      <td>b'\\x01\\x00\\x00\\x00\\x00\\x00\\x00\\x00'</td>\n",
       "      <td>1</td>\n",
       "    </tr>\n",
       "    <tr>\n",
       "      <th>1</th>\n",
       "      <td>2</td>\n",
       "      <td>2019-07-31 20:47:39.532560</td>\n",
       "      <td>-70</td>\n",
       "      <td>50</td>\n",
       "      <td>b'\\x01\\x00\\x00\\x00\\x00\\x00\\x00\\x00'</td>\n",
       "      <td>1</td>\n",
       "    </tr>\n",
       "    <tr>\n",
       "      <th>2</th>\n",
       "      <td>3</td>\n",
       "      <td>2019-07-31 20:47:44.252507</td>\n",
       "      <td>-70</td>\n",
       "      <td>50</td>\n",
       "      <td>b'\\x01\\x00\\x00\\x00\\x00\\x00\\x00\\x00'</td>\n",
       "      <td>1</td>\n",
       "    </tr>\n",
       "    <tr>\n",
       "      <th>3</th>\n",
       "      <td>4</td>\n",
       "      <td>2019-07-31 20:47:56.097304</td>\n",
       "      <td>-30</td>\n",
       "      <td>25</td>\n",
       "      <td>b'\\x02\\x00\\x00\\x00\\x00\\x00\\x00\\x00'</td>\n",
       "      <td>1</td>\n",
       "    </tr>\n",
       "    <tr>\n",
       "      <th>4</th>\n",
       "      <td>5</td>\n",
       "      <td>2019-07-31 20:49:17.545028</td>\n",
       "      <td>-30</td>\n",
       "      <td>25</td>\n",
       "      <td>b'\\x02\\x00\\x00\\x00\\x00\\x00\\x00\\x00'</td>\n",
       "      <td>1</td>\n",
       "    </tr>\n",
       "  </tbody>\n",
       "</table>\n",
       "</div>"
      ],
      "text/plain": [
       "   id                   scored_on  reality  accuracy  \\\n",
       "0   1  2019-07-31 20:46:21.817991      -70        50   \n",
       "1   2  2019-07-31 20:47:39.532560      -70        50   \n",
       "2   3  2019-07-31 20:47:44.252507      -70        50   \n",
       "3   4  2019-07-31 20:47:56.097304      -30        25   \n",
       "4   5  2019-07-31 20:49:17.545028      -30        25   \n",
       "\n",
       "                                   num  user_id  \n",
       "0  b'\\x01\\x00\\x00\\x00\\x00\\x00\\x00\\x00'        1  \n",
       "1  b'\\x01\\x00\\x00\\x00\\x00\\x00\\x00\\x00'        1  \n",
       "2  b'\\x01\\x00\\x00\\x00\\x00\\x00\\x00\\x00'        1  \n",
       "3  b'\\x02\\x00\\x00\\x00\\x00\\x00\\x00\\x00'        1  \n",
       "4  b'\\x02\\x00\\x00\\x00\\x00\\x00\\x00\\x00'        1  "
      ]
     },
     "execution_count": 22,
     "metadata": {},
     "output_type": "execute_result"
    }
   ],
   "source": [
    "df_scores.head()"
   ]
  },
  {
   "cell_type": "code",
   "execution_count": 24,
   "metadata": {},
   "outputs": [],
   "source": [
    "import warnings\n",
    "warnings.filterwarnings('ignore')\n",
    "from bokeh.plotting import figure, show, output_file, output_notebook\n",
    "from bokeh.palettes import Spectral11, colorblind, Inferno, BuGn, brewer\n",
    "from bokeh.models import HoverTool, value, LabelSet, Legend, ColumnDataSource,LinearColorMapper,BasicTicker, PrintfTickFormatter, ColorBar\n",
    "import datetime\n",
    "\n",
    "# Input data files are available in the \"../input/\" directory.\n",
    "# For example, running this (by clicking run or pressing Shift+Enter) will list the files in the input directory\n",
    "\n",
    "import os\n",
    "# print(os.listdir(\"../input\"))\n",
    "# output_notebook()"
   ]
  },
  {
   "cell_type": "code",
   "execution_count": 25,
   "metadata": {},
   "outputs": [
    {
     "data": {
      "text/html": [
       "<div>\n",
       "<style scoped>\n",
       "    .dataframe tbody tr th:only-of-type {\n",
       "        vertical-align: middle;\n",
       "    }\n",
       "\n",
       "    .dataframe tbody tr th {\n",
       "        vertical-align: top;\n",
       "    }\n",
       "\n",
       "    .dataframe thead th {\n",
       "        text-align: right;\n",
       "    }\n",
       "</style>\n",
       "<table border=\"1\" class=\"dataframe\">\n",
       "  <thead>\n",
       "    <tr style=\"text-align: right;\">\n",
       "      <th></th>\n",
       "      <th>id</th>\n",
       "      <th>scored_on</th>\n",
       "      <th>reality</th>\n",
       "      <th>accuracy</th>\n",
       "      <th>num</th>\n",
       "      <th>user_id</th>\n",
       "      <th>Day</th>\n",
       "      <th>Month</th>\n",
       "      <th>Year</th>\n",
       "    </tr>\n",
       "  </thead>\n",
       "  <tbody>\n",
       "    <tr>\n",
       "      <th>0</th>\n",
       "      <td>1</td>\n",
       "      <td>2019-07-31 20:46:21.817991</td>\n",
       "      <td>-70</td>\n",
       "      <td>50</td>\n",
       "      <td>b'\\x01\\x00\\x00\\x00\\x00\\x00\\x00\\x00'</td>\n",
       "      <td>1</td>\n",
       "      <td>31</td>\n",
       "      <td>7</td>\n",
       "      <td>2019</td>\n",
       "    </tr>\n",
       "    <tr>\n",
       "      <th>1</th>\n",
       "      <td>2</td>\n",
       "      <td>2019-07-31 20:47:39.532560</td>\n",
       "      <td>-70</td>\n",
       "      <td>50</td>\n",
       "      <td>b'\\x01\\x00\\x00\\x00\\x00\\x00\\x00\\x00'</td>\n",
       "      <td>1</td>\n",
       "      <td>31</td>\n",
       "      <td>7</td>\n",
       "      <td>2019</td>\n",
       "    </tr>\n",
       "    <tr>\n",
       "      <th>2</th>\n",
       "      <td>3</td>\n",
       "      <td>2019-07-31 20:47:44.252507</td>\n",
       "      <td>-70</td>\n",
       "      <td>50</td>\n",
       "      <td>b'\\x01\\x00\\x00\\x00\\x00\\x00\\x00\\x00'</td>\n",
       "      <td>1</td>\n",
       "      <td>31</td>\n",
       "      <td>7</td>\n",
       "      <td>2019</td>\n",
       "    </tr>\n",
       "    <tr>\n",
       "      <th>3</th>\n",
       "      <td>4</td>\n",
       "      <td>2019-07-31 20:47:56.097304</td>\n",
       "      <td>-30</td>\n",
       "      <td>25</td>\n",
       "      <td>b'\\x02\\x00\\x00\\x00\\x00\\x00\\x00\\x00'</td>\n",
       "      <td>1</td>\n",
       "      <td>31</td>\n",
       "      <td>7</td>\n",
       "      <td>2019</td>\n",
       "    </tr>\n",
       "    <tr>\n",
       "      <th>4</th>\n",
       "      <td>5</td>\n",
       "      <td>2019-07-31 20:49:17.545028</td>\n",
       "      <td>-30</td>\n",
       "      <td>25</td>\n",
       "      <td>b'\\x02\\x00\\x00\\x00\\x00\\x00\\x00\\x00'</td>\n",
       "      <td>1</td>\n",
       "      <td>31</td>\n",
       "      <td>7</td>\n",
       "      <td>2019</td>\n",
       "    </tr>\n",
       "  </tbody>\n",
       "</table>\n",
       "</div>"
      ],
      "text/plain": [
       "   id                  scored_on  reality  accuracy  \\\n",
       "0   1 2019-07-31 20:46:21.817991      -70        50   \n",
       "1   2 2019-07-31 20:47:39.532560      -70        50   \n",
       "2   3 2019-07-31 20:47:44.252507      -70        50   \n",
       "3   4 2019-07-31 20:47:56.097304      -30        25   \n",
       "4   5 2019-07-31 20:49:17.545028      -30        25   \n",
       "\n",
       "                                   num  user_id  Day  Month  Year  \n",
       "0  b'\\x01\\x00\\x00\\x00\\x00\\x00\\x00\\x00'        1   31      7  2019  \n",
       "1  b'\\x01\\x00\\x00\\x00\\x00\\x00\\x00\\x00'        1   31      7  2019  \n",
       "2  b'\\x01\\x00\\x00\\x00\\x00\\x00\\x00\\x00'        1   31      7  2019  \n",
       "3  b'\\x02\\x00\\x00\\x00\\x00\\x00\\x00\\x00'        1   31      7  2019  \n",
       "4  b'\\x02\\x00\\x00\\x00\\x00\\x00\\x00\\x00'        1   31      7  2019  "
      ]
     },
     "execution_count": 25,
     "metadata": {},
     "output_type": "execute_result"
    }
   ],
   "source": [
    "df_scores['scored_on']=pd.to_datetime(df_scores.scored_on)\n",
    "df_scores['Day'] = df_scores['scored_on'].apply(lambda x: x.day)\n",
    "df_scores['Month'] = df_scores['scored_on'].apply(lambda x: x.month)\n",
    "df_scores['Year'] = df_scores['scored_on'].apply(lambda x: x.year)\n",
    "# df_scores['Date'] = df_scores['scored_on'].apply(lambda x: x.day x.month x.year)\n",
    "# df_scores['']\n",
    "# data['Month'] = data.Date.apply(lambda x: x.month)\n",
    "df_scores.head()"
   ]
  },
  {
   "cell_type": "code",
   "execution_count": null,
   "metadata": {},
   "outputs": [],
   "source": []
  },
  {
   "cell_type": "code",
   "execution_count": 26,
   "metadata": {},
   "outputs": [
    {
     "data": {
      "text/html": [
       "<div>\n",
       "<style scoped>\n",
       "    .dataframe tbody tr th:only-of-type {\n",
       "        vertical-align: middle;\n",
       "    }\n",
       "\n",
       "    .dataframe tbody tr th {\n",
       "        vertical-align: top;\n",
       "    }\n",
       "\n",
       "    .dataframe thead th {\n",
       "        text-align: right;\n",
       "    }\n",
       "</style>\n",
       "<table border=\"1\" class=\"dataframe\">\n",
       "  <thead>\n",
       "    <tr style=\"text-align: right;\">\n",
       "      <th></th>\n",
       "      <th>Day</th>\n",
       "      <th>id</th>\n",
       "      <th>reality</th>\n",
       "      <th>accuracy</th>\n",
       "      <th>user_id</th>\n",
       "      <th>Month</th>\n",
       "      <th>Year</th>\n",
       "    </tr>\n",
       "  </thead>\n",
       "  <tbody>\n",
       "    <tr>\n",
       "      <th>0</th>\n",
       "      <td>1</td>\n",
       "      <td>34.5</td>\n",
       "      <td>-26.770833</td>\n",
       "      <td>25.833333</td>\n",
       "      <td>1.0</td>\n",
       "      <td>8.0</td>\n",
       "      <td>2019.0</td>\n",
       "    </tr>\n",
       "    <tr>\n",
       "      <th>1</th>\n",
       "      <td>3</td>\n",
       "      <td>66.0</td>\n",
       "      <td>1.000000</td>\n",
       "      <td>33.000000</td>\n",
       "      <td>1.0</td>\n",
       "      <td>8.0</td>\n",
       "      <td>2019.0</td>\n",
       "    </tr>\n",
       "    <tr>\n",
       "      <th>2</th>\n",
       "      <td>31</td>\n",
       "      <td>5.5</td>\n",
       "      <td>-42.000000</td>\n",
       "      <td>32.500000</td>\n",
       "      <td>1.0</td>\n",
       "      <td>7.0</td>\n",
       "      <td>2019.0</td>\n",
       "    </tr>\n",
       "  </tbody>\n",
       "</table>\n",
       "</div>"
      ],
      "text/plain": [
       "   Day    id    reality   accuracy  user_id  Month    Year\n",
       "0    1  34.5 -26.770833  25.833333      1.0    8.0  2019.0\n",
       "1    3  66.0   1.000000  33.000000      1.0    8.0  2019.0\n",
       "2   31   5.5 -42.000000  32.500000      1.0    7.0  2019.0"
      ]
     },
     "execution_count": 26,
     "metadata": {},
     "output_type": "execute_result"
    }
   ],
   "source": [
    "scores = df_scores.groupby(['Day']).mean().reset_index()\n",
    "scores"
   ]
  },
  {
   "cell_type": "code",
   "execution_count": 28,
   "metadata": {},
   "outputs": [],
   "source": [
    "TOOLS = 'crosshair,save,pan,box_zoom,reset,wheel_zoom'\n",
    "p = figure(title=\"Perception over Time\", y_axis_type=\"linear\",x_axis_type='datetime', tools = TOOLS)\n",
    "\n",
    "p.line(df_scores['scored_on'], df_scores.accuracy, legend=\"Accuracy\", line_color=\"magenta\", line_width = 3)\n",
    "p.line(df_scores['scored_on'], df_scores.reality, legend=\"Reality\", line_color=\"blue\", line_width = 3)\n",
    "p.circle(df_scores['scored_on'], df_scores.accuracy, line_color='magenta',fill_color=\"white\", size=8)\n",
    "p.circle(df_scores['scored_on'], df_scores.reality, line_color='blue',fill_color=\"white\", size=8)\n",
    "# p.line(stolen_property['Date'], stolen_property.IncidntNum, legend=\"stolen_property\", line_color=\"blue\", line_width = 3)\n",
    "\n",
    "p.legend.location = \"top_left\"\n",
    "\n",
    "p.xaxis.axis_label = 'Date'\n",
    "p.yaxis.axis_label = 'Value'\n",
    "\n",
    "output_file(\"multiline_plot.html\", title=\"Multi Line Plot\")\n",
    "\n",
    "show(p)  # open a browser"
   ]
  },
  {
   "cell_type": "code",
   "execution_count": 29,
   "metadata": {},
   "outputs": [],
   "source": [
    "TOOLS = 'save,pan,box_zoom,reset,wheel_zoom,hover'\n",
    "p = figure(title=\"Year-wise total number of crimes\", y_axis_type=\"linear\", plot_height = 400,\n",
    "           tools = TOOLS, plot_width = 800)\n",
    "p.xaxis.axis_label = 'Date'\n",
    "p.yaxis.axis_label = 'Reality Score'\n",
    "p.circle(df_scores.scored_on, df_scores.reality, size = 5, color = 'red')\n",
    "\n",
    "p.line(df_scores.scored_on, df_scores.reality,line_color=\"red\", line_width = 3)\n",
    "p.select_one(HoverTool).tooltips = [\n",
    "    ('Date', '@x'),\n",
    "    ('Score', '@y'),\n",
    "]\n",
    "\n",
    "output_file(\"line_chart.html\", title=\"Reality Chart\")\n",
    "show(p)"
   ]
  },
  {
   "cell_type": "code",
   "execution_count": null,
   "metadata": {},
   "outputs": [],
   "source": []
  },
  {
   "cell_type": "code",
   "execution_count": 95,
   "metadata": {},
   "outputs": [],
   "source": [
    "df  = pd.read_sql_query(query, con=con, params = param)"
   ]
  },
  {
   "cell_type": "code",
   "execution_count": 99,
   "metadata": {},
   "outputs": [
    {
     "data": {
      "text/html": [
       "<div>\n",
       "<style scoped>\n",
       "    .dataframe tbody tr th:only-of-type {\n",
       "        vertical-align: middle;\n",
       "    }\n",
       "\n",
       "    .dataframe tbody tr th {\n",
       "        vertical-align: top;\n",
       "    }\n",
       "\n",
       "    .dataframe thead th {\n",
       "        text-align: right;\n",
       "    }\n",
       "</style>\n",
       "<table border=\"1\" class=\"dataframe\">\n",
       "  <thead>\n",
       "    <tr style=\"text-align: right;\">\n",
       "      <th></th>\n",
       "      <th>id</th>\n",
       "      <th>desc</th>\n",
       "      <th>want</th>\n",
       "      <th>likelihood</th>\n",
       "      <th>happened</th>\n",
       "      <th>user_id</th>\n",
       "    </tr>\n",
       "  </thead>\n",
       "  <tbody>\n",
       "    <tr>\n",
       "      <th>0</th>\n",
       "      <td>1</td>\n",
       "      <td>test</td>\n",
       "      <td>Yes</td>\n",
       "      <td>50</td>\n",
       "      <td>No</td>\n",
       "      <td>1</td>\n",
       "    </tr>\n",
       "    <tr>\n",
       "      <th>1</th>\n",
       "      <td>2</td>\n",
       "      <td>test</td>\n",
       "      <td>Yes</td>\n",
       "      <td>80</td>\n",
       "      <td>Yes</td>\n",
       "      <td>1</td>\n",
       "    </tr>\n",
       "  </tbody>\n",
       "</table>\n",
       "</div>"
      ],
      "text/plain": [
       "   id  desc want  likelihood happened  user_id\n",
       "0   1  test  Yes          50       No        1\n",
       "1   2  test  Yes          80      Yes        1"
      ]
     },
     "execution_count": 99,
     "metadata": {},
     "output_type": "execute_result"
    }
   ],
   "source": [
    "df"
   ]
  },
  {
   "cell_type": "code",
   "execution_count": 114,
   "metadata": {},
   "outputs": [],
   "source": [
    "expected = df.likelihood.mean()/100"
   ]
  },
  {
   "cell_type": "code",
   "execution_count": 115,
   "metadata": {},
   "outputs": [
    {
     "data": {
      "text/plain": [
       "0.65"
      ]
     },
     "execution_count": 115,
     "metadata": {},
     "output_type": "execute_result"
    }
   ],
   "source": [
    "expected"
   ]
  },
  {
   "cell_type": "code",
   "execution_count": 116,
   "metadata": {},
   "outputs": [],
   "source": [
    "df.happened = df.happened.replace('No',0)\n",
    "df.happened = df.happened.replace('Yes',1)"
   ]
  },
  {
   "cell_type": "code",
   "execution_count": 117,
   "metadata": {},
   "outputs": [],
   "source": [
    "actual = (df.happened.sum()) / (df.happened.count())"
   ]
  },
  {
   "cell_type": "code",
   "execution_count": 118,
   "metadata": {},
   "outputs": [
    {
     "data": {
      "text/plain": [
       "0.5"
      ]
     },
     "execution_count": 118,
     "metadata": {},
     "output_type": "execute_result"
    }
   ],
   "source": [
    "actual "
   ]
  },
  {
   "cell_type": "code",
   "execution_count": 124,
   "metadata": {},
   "outputs": [],
   "source": [
    "score = round((expected - actual),2)"
   ]
  },
  {
   "cell_type": "code",
   "execution_count": 125,
   "metadata": {},
   "outputs": [
    {
     "data": {
      "text/plain": [
       "0.15"
      ]
     },
     "execution_count": 125,
     "metadata": {},
     "output_type": "execute_result"
    }
   ],
   "source": [
    "score"
   ]
  },
  {
   "cell_type": "code",
   "execution_count": null,
   "metadata": {},
   "outputs": [],
   "source": []
  }
 ],
 "metadata": {
  "kernelspec": {
   "display_name": "Python 3",
   "language": "python",
   "name": "python3"
  },
  "language_info": {
   "codemirror_mode": {
    "name": "ipython",
    "version": 3
   },
   "file_extension": ".py",
   "mimetype": "text/x-python",
   "name": "python",
   "nbconvert_exporter": "python",
   "pygments_lexer": "ipython3",
   "version": "3.7.1"
  }
 },
 "nbformat": 4,
 "nbformat_minor": 2
}
